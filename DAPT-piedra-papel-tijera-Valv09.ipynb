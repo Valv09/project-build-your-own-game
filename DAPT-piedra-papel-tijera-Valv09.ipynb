{
 "cells": [
  {
   "cell_type": "code",
   "execution_count": 5,
   "id": "38b7aabd",
   "metadata": {},
   "outputs": [
    {
     "name": "stdout",
     "output_type": "stream",
     "text": [
      "Elige una opcion (piedra, papel, tijera): piedra\n",
      "\n",
      "Tu seleccionaste piedra, compu selecciono piedra.\n",
      "\n",
      "Ambos seleccionaron piedra. Es empate!\n",
      "¿quieres jugar otra vez? (si/no):si\n",
      "Elige una opcion (piedra, papel, tijera): papel\n",
      "\n",
      "Tu seleccionaste papel, compu selecciono piedra.\n",
      "\n",
      "Papel cubre piedra! Ganaste!\n",
      "¿quieres jugar otra vez? (si/no):si\n",
      "Elige una opcion (piedra, papel, tijera): tijera\n",
      "\n",
      "Tu seleccionaste tijera, compu selecciono tijera.\n",
      "\n",
      "Ambos seleccionaron tijera. Es empate!\n",
      "¿quieres jugar otra vez? (si/no):no\n"
     ]
    }
   ],
   "source": [
    "import random\n",
    "\n",
    "while True:\n",
    "    \n",
    "    jugador_uno = input(\"Elige una opcion (piedra, papel, tijera): \") \n",
    "    opciones = [\"piedra\", \"papel\", \"tijera\"]\n",
    "    jugador_compu = random.choice(opciones)\n",
    "    print(f\"\\nTu seleccionaste {jugador_uno}, compu selecciono {jugador_compu}.\\n\")\n",
    "\n",
    "    if jugador_uno == jugador_compu:\n",
    "        print(f'Ambos seleccionaron {jugador_uno}. Es empate!')\n",
    "    elif jugador_uno == \"piedra\":\n",
    "        if jugador_compu == \"tijera\":\n",
    "            print('Piedra rompe tijera! Ganaste!')\n",
    "        else:\n",
    "            print('Papel cubre piedra!  Perdiste.')\n",
    "    elif jugador_uno == \"papel\":\n",
    "        if jugador_compu == \"piedra\":\n",
    "            print('Papel cubre piedra! Ganaste!')\n",
    "        else:\n",
    "            print('tijera corta papel! Perdiste.')\n",
    "    elif jugador_uno == \"tijera\":\n",
    "        if jugador_compu == \"papel\":\n",
    "            print('tijera corta papel! Ganaste!')\n",
    "        else:\n",
    "            print('Piedra rompe tijera! Perdiste.')\n",
    "            \n",
    "    otro_juego = input('¿quieres jugar otra vez? (si/no):')\n",
    "    if otro_juego.lower() != 'si':\n",
    "        break"
   ]
  },
  {
   "cell_type": "code",
   "execution_count": null,
   "id": "b9ac7190",
   "metadata": {},
   "outputs": [],
   "source": []
  }
 ],
 "metadata": {
  "kernelspec": {
   "display_name": "Python 3 (ipykernel)",
   "language": "python",
   "name": "python3"
  },
  "language_info": {
   "codemirror_mode": {
    "name": "ipython",
    "version": 3
   },
   "file_extension": ".py",
   "mimetype": "text/x-python",
   "name": "python",
   "nbconvert_exporter": "python",
   "pygments_lexer": "ipython3",
   "version": "3.9.12"
  }
 },
 "nbformat": 4,
 "nbformat_minor": 5
}
